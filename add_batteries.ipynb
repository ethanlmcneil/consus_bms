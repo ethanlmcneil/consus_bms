{
 "cells": [
  {
   "cell_type": "code",
   "execution_count": 1,
   "metadata": {},
   "outputs": [],
   "source": [
    "import sys\n",
    "import os\n",
    "\n",
    "# Add the root directory to the Python path\n",
    "sys.path.append(os.path.abspath(os.path.join(os.getcwd(), '..')))\n",
    "\n",
    "# Now imports will work\n",
    "from scripts.utils.create_battery import add_battery, delete_batteries \n",
    "from scripts.utils.edit_battery import fake_update_all_batteries\n",
    "from app.core.logging import logger\n",
    "from scripts.control.action_loop import action_logic_loop"
   ]
  },
  {
   "cell_type": "code",
   "execution_count": 36,
   "metadata": {},
   "outputs": [],
   "source": [
    "location = \"test_location\"\n",
    "postal_code = \"c1 9LC\"\n",
    "capacity = 14\n",
    "IP_address = \"17.168.10.8\""
   ]
  },
  {
   "cell_type": "code",
   "execution_count": 37,
   "metadata": {},
   "outputs": [
    {
     "name": "stderr",
     "output_type": "stream",
     "text": [
      "[2025-04-03 16:48:04,383] INFO - consus - Found 1 existing batteries for prefix C1\n",
      "[2025-04-03 16:48:04,384] INFO - consus - Generated identifier: C1-0002-14\n",
      "[2025-04-03 16:48:04,384] INFO - consus - Creating battery with identifier=C1-0002-14, location=test_location, capacity=14\n",
      "[2025-04-03 16:48:04,393] ERROR - consus - Failed to create battery: 201 - {\"id\":\"4be63d99-ce3d-424e-a062-6b94a3f0d3a1\",\"identifier\":\"C1-0002-14\",\"IP_address\":\"17.168.10.8\",\"location\":\"test_location\",\"capacity_kwh\":14.0,\"postal_code\":\"c1 9LC\",\"state_of_charge\":null,\"status\":null,\"flag\":null,\"power_kw\":null,\"voltage\":null,\"temperature\":null,\"last_updated\":\"2025-04-03T16:41:43.079238\",\"last_seen\":\"2025-04-03T16:41:43.079283\"}\n"
     ]
    }
   ],
   "source": [
    "add_battery(\n",
    "    location=location,\n",
    "    capacity=capacity,IP_address=IP_address, postal_code=postal_code)"
   ]
  },
  {
   "cell_type": "code",
   "execution_count": null,
   "metadata": {},
   "outputs": [
    {
     "name": "stdout",
     "output_type": "stream",
     "text": [
      "422 {\"detail\":[{\"type\":\"missing\",\"loc\":[\"body\",\"power_kw\"],\"msg\":\"Field required\",\"input\":{\"id\":\"f8985c28-99f3-4015-b37f-d56f05fddf07\",\"state_of_charge\":41.32,\"temperature\":27.4,\"status\":\"charging\"}},{\"type\":\"missing\",\"loc\":[\"body\",\"voltage\"],\"msg\":\"Field required\",\"input\":{\"id\":\"f8985c28-99f3-4015-b37f-d56f05fddf07\",\"state_of_charge\":41.32,\"temperature\":27.4,\"status\":\"charging\"}}]}\n"
     ]
    }
   ],
   "source": [
    "monitor_loop()\n"
   ]
  },
  {
   "cell_type": "code",
   "execution_count": null,
   "metadata": {},
   "outputs": [],
   "source": [
    "fake_update_all_batteries()"
   ]
  },
  {
   "cell_type": "code",
   "execution_count": 10,
   "metadata": {},
   "outputs": [
    {
     "name": "stderr",
     "output_type": "stream",
     "text": [
      "[2025-04-03 14:24:46,631] WARNING - consus - Deleting all batteries\n",
      "[2025-04-03 14:24:46,803] INFO - consus - All batteries deleted successfully.\n"
     ]
    }
   ],
   "source": [
    "delete_batteries(battery_ids=[], delete_all= True)"
   ]
  },
  {
   "cell_type": "code",
   "execution_count": null,
   "metadata": {},
   "outputs": [],
   "source": [
    "action_logic_loop()"
   ]
  }
 ],
 "metadata": {
  "kernelspec": {
   "display_name": "consus_bms",
   "language": "python",
   "name": "python3"
  },
  "language_info": {
   "codemirror_mode": {
    "name": "ipython",
    "version": 3
   },
   "file_extension": ".py",
   "mimetype": "text/x-python",
   "name": "python",
   "nbconvert_exporter": "python",
   "pygments_lexer": "ipython3",
   "version": "3.10.16"
  }
 },
 "nbformat": 4,
 "nbformat_minor": 2
}
